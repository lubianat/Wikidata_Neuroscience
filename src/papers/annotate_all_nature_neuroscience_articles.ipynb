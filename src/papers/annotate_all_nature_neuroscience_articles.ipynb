{
 "cells": [
  {
   "cell_type": "code",
   "execution_count": 31,
   "metadata": {},
   "outputs": [],
   "source": [
    "# pip install sparqlwrapper\n",
    "# https://rdflib.github.io/sparqlwrapper/\n",
    "\n",
    "from SPARQLWrapper import SPARQLWrapper, JSON\n",
    "\n",
    "endpoint_url = \"https://query.wikidata.org/sparql\"\n",
    "\n",
    "query = \"\"\"SELECT ?item ?itemLabel\n",
    "WHERE { \n",
    "  ?item wdt:P31 wd:Q13442814.\n",
    "  ?item wdt:P1433 wd:Q1535359.\n",
    "  ?item rdfs:label ?itemLabel.\n",
    "} limit 10\n",
    "\"\"\"\n",
    "\n",
    "\n",
    "def get_results(endpoint_url, query):\n",
    "    sparql = SPARQLWrapper(endpoint_url)\n",
    "    sparql.setQuery(query)\n",
    "    sparql.setReturnFormat(JSON)\n",
    "    return sparql.query().convert()\n",
    "\n",
    "\n",
    "results = get_results(endpoint_url, query)\n"
   ]
  },
  {
   "cell_type": "code",
   "execution_count": 32,
   "metadata": {},
   "outputs": [
    {
     "name": "stdout",
     "output_type": "stream",
     "text": [
      "http://www.wikidata.org/entity/Q21147053\n",
      "Imagined gait modulates neuronal network dynamics in the human pedunculopontine nucleus\n",
      "()\n",
      "http://www.wikidata.org/entity/Q21147054\n",
      "Reversible switching between epigenetic states in honeybee behavioral subcastes\n",
      "()\n",
      "http://www.wikidata.org/entity/Q22009155\n",
      "Snapin: a SNARE-associated protein implicated in synaptic transmission\n",
      "(SNARE,)\n",
      "SNARE - GPE - Countries, cities, states\n"
     ]
    }
   ],
   "source": [
    "\n",
    "\n",
    "import os.path as p\n",
    "import spacy\n",
    "\n",
    "nlp = spacy.load(\"en_core_web_sm\") \n",
    "titlenew = \"\"\n",
    "for result in results[\"results\"][\"bindings\"]:\n",
    "    title = result['itemLabel']['value']\n",
    "    \n",
    "    if (titlenew != title):\n",
    "            print(result[\"item\"][\"value\"])\n",
    "            sen = nlp(title)\n",
    "            print(sen.text)\n",
    "            print(sen.ents)\n",
    "            for entity in sen.ents:\n",
    "                print(entity.text + ' - ' + entity.label_ + ' - ' + str(spacy.explain(entity.label_)))\n",
    "    \n",
    "    \n",
    "    titlenew = title\n",
    "    \n",
    "\n"
   ]
  },
  {
   "cell_type": "code",
   "execution_count": 29,
   "metadata": {},
   "outputs": [
    {
     "name": "stdout",
     "output_type": "stream",
     "text": [
      "A new function for the fragile X mental retardation protein in regulation of PSD-95 mRNA stability\n",
      "VTA - ORG - Companies, agencies, institutions, etc.\n",
      "fragile X mental retardation protein\n",
      "PSD-95\n"
     ]
    }
   ],
   "source": [
    "text = \"A new function for the fragile X mental retardation protein in regulation of PSD-95 mRNA stability\"\n",
    "qid = 'Q28116039'\n",
    "doc = nlp(text)\n",
    "\n",
    "print(doc.text)\n",
    "for entity in sen.ents:\n",
    "    print(entity.text + ' - ' + entity.label_ + ' - ' + str(spacy.explain(entity.label_)))\n",
    "    \n",
    "    \n",
    "ptn1 = doc[5:10]\n",
    "\n",
    "ptn2 = doc[13]\n",
    "\n",
    "print(ptn1)\n",
    "\n",
    "print(ptn2)"
   ]
  },
  {
   "cell_type": "code",
   "execution_count": 30,
   "metadata": {},
   "outputs": [
    {
     "name": "stdout",
     "output_type": "stream",
     "text": [
      "Q28116039|P921|Q58622761\n",
      "Q28116039|P921|Q21102524\n"
     ]
    }
   ],
   "source": [
    "from wikidataintegrator import wdi_core\n",
    "\n",
    "\n",
    "# Main Subject property is \"P921\"\n",
    "\n",
    "print( qid + \"|P921|\" +     wdi_core.WDItemEngine.get_wd_search_results(ptn1.text)[0] )\n",
    "print( qid + \"|P921|\" +     wdi_core.WDItemEngine.get_wd_search_results(ptn2.text)[0] )"
   ]
  },
  {
   "cell_type": "code",
   "execution_count": null,
   "metadata": {},
   "outputs": [],
   "source": []
  }
 ],
 "metadata": {
  "kernelspec": {
   "display_name": "Python 3",
   "language": "python",
   "name": "python3"
  },
  "language_info": {
   "codemirror_mode": {
    "name": "ipython",
    "version": 3
   },
   "file_extension": ".py",
   "mimetype": "text/x-python",
   "name": "python",
   "nbconvert_exporter": "python",
   "pygments_lexer": "ipython3",
   "version": "3.6.5"
  }
 },
 "nbformat": 4,
 "nbformat_minor": 4
}
