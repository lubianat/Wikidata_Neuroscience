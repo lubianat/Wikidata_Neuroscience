{
 "cells": [
  {
   "cell_type": "code",
   "execution_count": 1,
   "metadata": {},
   "outputs": [],
   "source": [
    "from pronto import Ontology\n",
    "\n",
    "cl = Ontology(\"http://purl.obolibrary.org/obo/cl.obo\")"
   ]
  },
  {
   "cell_type": "code",
   "execution_count": 2,
   "metadata": {},
   "outputs": [
    {
     "data": {
      "text/plain": [
       "Term('CL:0002116', name='B220-low CD38-positive unswitched memory B cell')"
      ]
     },
     "execution_count": 2,
     "metadata": {},
     "output_type": "execute_result"
    }
   ],
   "source": [
    "cl['CL:0002116']"
   ]
  },
  {
   "cell_type": "code",
   "execution_count": 3,
   "metadata": {},
   "outputs": [],
   "source": [
    "from owlready2 import *\n",
    "cl = get_ontology(\"https://github.com/obophenotype/cell-ontology/raw/master/cl-full.owl\").load()\n",
    "\n",
    "#onto = get_ontology(\"http://www.lesfleursdunormal.fr/static/_downloads/pizza_onto.owl\")\n",
    "\n",
    "obo = cl.get_namespace(\"http://purl.obolibrary.org/obo/\")"
   ]
  },
  {
   "cell_type": "code",
   "execution_count": 4,
   "metadata": {},
   "outputs": [
    {
     "name": "stderr",
     "output_type": "stream",
     "text": [
      "* Owlready2 * Warning: ignoring cyclic subclass of/subproperty of, involving:\n",
      "  http://purl.obolibrary.org/obo/CL_0000000\n",
      "  http://purl.obolibrary.org/obo/GO_0005623\n",
      "\n"
     ]
    },
    {
     "data": {
      "text/plain": [
       "[obo.CL_0002319]"
      ]
     },
     "execution_count": 4,
     "metadata": {},
     "output_type": "execute_result"
    }
   ],
   "source": [
    "cl.search(label = \"neural cell\")"
   ]
  },
  {
   "cell_type": "code",
   "execution_count": 5,
   "metadata": {},
   "outputs": [],
   "source": [
    "neural_cell_iris = cl.search(subclass_of = obo.CL_0002319 )"
   ]
  },
  {
   "cell_type": "code",
   "execution_count": 6,
   "metadata": {},
   "outputs": [],
   "source": [
    "neural_cell_names = []\n",
    "\n",
    "for cell in neural_cell_iris:\n",
    "    neural_cell_names.append(cell.label[0])"
   ]
  },
  {
   "cell_type": "code",
   "execution_count": 8,
   "metadata": {},
   "outputs": [],
   "source": [
    "import pandas as pd\n",
    "\n",
    "neural_cells = pd.DataFrame({\"IRI\":neural_cell_iris, \"label\":neural_cell_names})\n",
    "\n",
    "neural_cells.to_csv(\"../../data/cells/neural_cells_in_cl.csv\")"
   ]
  }
 ],
 "metadata": {
  "kernelspec": {
   "display_name": "Python 3",
   "language": "python",
   "name": "python3"
  },
  "language_info": {
   "codemirror_mode": {
    "name": "ipython",
    "version": 3
   },
   "file_extension": ".py",
   "mimetype": "text/x-python",
   "name": "python",
   "nbconvert_exporter": "python",
   "pygments_lexer": "ipython3",
   "version": "3.8.2"
  }
 },
 "nbformat": 4,
 "nbformat_minor": 4
}
